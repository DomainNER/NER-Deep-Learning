{
 "cells": [
  {
   "cell_type": "markdown",
   "metadata": {
    "colab_type": "text",
    "id": "5-MJfWamr89R"
   },
   "source": [
    "# Data Source"
   ]
  },
  {
   "cell_type": "code",
   "execution_count": 0,
   "metadata": {
    "colab": {
     "base_uri": "https://localhost:8080/",
     "height": 204
    },
    "colab_type": "code",
    "id": "pI5gDAeXjhQv",
    "outputId": "a514d6a0-2f46-4161-a277-0bfd483662f6"
   },
   "outputs": [
    {
     "name": "stdout",
     "output_type": "stream",
     "text": [
      "Cloning into 'NER-Deep-Learning'...\n",
      "remote: Enumerating objects: 22, done.\u001b[K\n",
      "remote: Counting objects:   4% (1/22)\u001b[K\r",
      "remote: Counting objects:   9% (2/22)\u001b[K\r",
      "remote: Counting objects:  13% (3/22)\u001b[K\r",
      "remote: Counting objects:  18% (4/22)\u001b[K\r",
      "remote: Counting objects:  22% (5/22)\u001b[K\r",
      "remote: Counting objects:  27% (6/22)\u001b[K\r",
      "remote: Counting objects:  31% (7/22)\u001b[K\r",
      "remote: Counting objects:  36% (8/22)\u001b[K\r",
      "remote: Counting objects:  40% (9/22)\u001b[K\r",
      "remote: Counting objects:  45% (10/22)\u001b[K\r",
      "remote: Counting objects:  50% (11/22)\u001b[K\r",
      "remote: Counting objects:  54% (12/22)\u001b[K\r",
      "remote: Counting objects:  59% (13/22)\u001b[K\r",
      "remote: Counting objects:  63% (14/22)\u001b[K\r",
      "remote: Counting objects:  68% (15/22)\u001b[K\r",
      "remote: Counting objects:  72% (16/22)\u001b[K\r",
      "remote: Counting objects:  77% (17/22)\u001b[K\r",
      "remote: Counting objects:  81% (18/22)\u001b[K\r",
      "remote: Counting objects:  86% (19/22)\u001b[K\r",
      "remote: Counting objects:  90% (20/22)\u001b[K\r",
      "remote: Counting objects:  95% (21/22)\u001b[K\r",
      "remote: Counting objects: 100% (22/22)\u001b[K\r",
      "remote: Counting objects: 100% (22/22), done.\u001b[K\n",
      "remote: Compressing objects: 100% (20/20), done.\u001b[K\n",
      "remote: Total 48 (delta 8), reused 5 (delta 2), pack-reused 26\u001b[K\n",
      "Unpacking objects: 100% (48/48), done.\n",
      "/content\n",
      "Archive:  dataset.zip\n",
      "  inflating: dataset.csv             \n",
      "Archive:  test_dataset.zip\n",
      "  inflating: test_dataset.csv        \n"
     ]
    },
    {
     "data": {
      "text/plain": []
     },
     "execution_count": 4,
     "metadata": {
      "tags": []
     },
     "output_type": "execute_result"
    }
   ],
   "source": [
    "%%shell\n",
    "\n",
    "git clone https://github.com/SmartyPants042/NER-Deep-Learning.git\n",
    "pwd\n",
    "cd NER-Deep-Learning/Data/\n",
    "unzip dataset.zip\n",
    "unzip test_dataset.zip"
   ]
  },
  {
   "cell_type": "code",
   "execution_count": 0,
   "metadata": {
    "colab": {},
    "colab_type": "code",
    "id": "RJoFMApKteqD"
   },
   "outputs": [],
   "source": [
    "data_input = '/content/NER-Deep-Learning/Data/dataset.csv'\n",
    "test_input = '/content/NER-Deep-Learning/Data/test_dataset.csv'"
   ]
  },
  {
   "cell_type": "code",
   "execution_count": 0,
   "metadata": {
    "colab": {},
    "colab_type": "code",
    "id": "qJ2wyW6SoQA_"
   },
   "outputs": [],
   "source": [
    "# Dataframe manipulations\n",
    "import pandas as pd\n",
    "# Array manipulations\n",
    "import numpy as np\n",
    "\n",
    "# Library used for deep learning\n",
    "import tensorflow as tf\n",
    "# Not all sentences are of same length, padding is required\n",
    "from tensorflow.keras.preprocessing.sequence import pad_sequences\n",
    "# Converts the target labels to categories that the neural net can predict\n",
    "from tensorflow.keras.utils import to_categorical\n",
    "# Type of model used for DL\n",
    "from tensorflow.keras.models import Sequential\n",
    "# Layers present in the network. \n",
    "# Refer README.md for more details.\n",
    "# Analysis of different combinations of layers in README.md\n",
    "from tensorflow.keras.layers import LSTM, Embedding, Dense, TimeDistributed, Dropout, Bidirectional"
   ]
  },
  {
   "cell_type": "markdown",
   "metadata": {
    "colab_type": "text",
    "id": "mDe4Qyj9otui"
   },
   "source": [
    "# `Data Manipulation`"
   ]
  },
  {
   "cell_type": "code",
   "execution_count": 0,
   "metadata": {
    "colab": {},
    "colab_type": "code",
    "id": "iwzL741toq1X"
   },
   "outputs": [],
   "source": [
    "df = pd.read_csv(data_input)\n",
    "df_test = pd.read_csv(test_input)"
   ]
  },
  {
   "cell_type": "code",
   "execution_count": 0,
   "metadata": {
    "colab": {},
    "colab_type": "code",
    "id": "yuW9iE71o1Dc"
   },
   "outputs": [],
   "source": [
    "aggregate_function = lambda s: [(w, p, t) for w, p, t in zip(\n",
    "    list(s['Word'].values),\n",
    "    list(s['POS Tag'].values),\n",
    "    list(s['NER Tag'].values)\n",
    ")]"
   ]
  },
  {
   "cell_type": "code",
   "execution_count": 0,
   "metadata": {
    "colab": {},
    "colab_type": "code",
    "id": "QuNgmmYYo1rk"
   },
   "outputs": [],
   "source": [
    "sentences = df.groupby(\"Sentence ID\").apply(aggregate_function)\n",
    "sentences_test = df_test.groupby(\"Sentence ID\").apply(aggregate_function)"
   ]
  },
  {
   "cell_type": "code",
   "execution_count": 0,
   "metadata": {
    "colab": {},
    "colab_type": "code",
    "id": "f7qXijCoo6N_"
   },
   "outputs": [],
   "source": [
    "max_length = max(len(s) for s in sentences)"
   ]
  },
  {
   "cell_type": "code",
   "execution_count": 0,
   "metadata": {
    "colab": {},
    "colab_type": "code",
    "id": "zrSxGr08pEK8"
   },
   "outputs": [],
   "source": [
    "words = list(set(df[\"Word\"].values))\n",
    "words.append(\"__PAD__\")\n",
    "n_words = len(words)"
   ]
  },
  {
   "cell_type": "code",
   "execution_count": 0,
   "metadata": {
    "colab": {},
    "colab_type": "code",
    "id": "c0y0a2WepHJw"
   },
   "outputs": [],
   "source": [
    "tags = list(set(df[\"NER Tag\"].values))\n",
    "n_tags = len(tags)"
   ]
  },
  {
   "cell_type": "code",
   "execution_count": 0,
   "metadata": {
    "colab": {},
    "colab_type": "code",
    "id": "1oPU8etqpJsx"
   },
   "outputs": [],
   "source": [
    "word2id = {w: i for i, w in enumerate(words)}\n",
    "tag2id = {t: i for i, t in enumerate(tags)}"
   ]
  },
  {
   "cell_type": "markdown",
   "metadata": {
    "colab_type": "text",
    "id": "FAEUuKi5pNfO"
   },
   "source": [
    "# `Training & Testing`"
   ]
  },
  {
   "cell_type": "code",
   "execution_count": 0,
   "metadata": {
    "colab": {},
    "colab_type": "code",
    "id": "HX0wrNvspJ2p"
   },
   "outputs": [],
   "source": [
    "# Creates vector of sentences, where each sentence is itself a vector of 62 words maximum.\n",
    "# We have not yet converted the words to thier respective IDs.\n",
    "# We have not yet made the sentences of the same length also known as padding.\n",
    "X_train_sent = [[tup[0] for i, tup in enumerate(sent) if i<max_length] for sent in sentences]\n",
    "y_train_sent = [[tup[2] for i, tup in enumerate(sent) if i<max_length] for sent in sentences]\n",
    "X_test_sent = [[tup[0] for i, tup in enumerate(sent) if i<max_length] for sent in sentences_test]\n",
    "y_test_sent = [[tup[2] for i, tup in enumerate(sent) if i<max_length] for sent in sentences_test]"
   ]
  },
  {
   "cell_type": "code",
   "execution_count": 0,
   "metadata": {
    "colab": {},
    "colab_type": "code",
    "id": "ERsjctJgpXBO"
   },
   "outputs": [],
   "source": [
    "def generate_encodings(X_sent, y_sent):\n",
    "    \"\"\"\n",
    "    Description: \n",
    "    Converts the list of sentences containing words to a list of sentences conataining just numbers.\n",
    "    If the word is present in the vocabulary, it is assigned the correct corresponding id;\n",
    "    If the word is present in the twitter data, but not in the GMB data,\n",
    "    we simply assign it the value of '__PAD__'.\n",
    "    \n",
    "    Returns: Two tuple of encoded sentences, encoded target labels\n",
    "    \n",
    "    Input Params: Two tuple of sentences and target labels.\n",
    "    \"\"\"\n",
    "    X_train = []\n",
    "    y_train = []\n",
    "    \n",
    "    for x_s, y_s in zip(X_sent, y_sent):\n",
    "\n",
    "        temp_x = []\n",
    "        temp_y = []\n",
    "\n",
    "        for x, y in zip(x_s, y_s):\n",
    "            try:\n",
    "                x = word2id[x]\n",
    "            except:\n",
    "                x = word2id['__PAD__']\n",
    "            try:\n",
    "                y = tag2id[y]\n",
    "            except:\n",
    "                y = tag2id['O']\n",
    "\n",
    "            temp_x.append(x)\n",
    "            temp_y.append(y)\n",
    "        \n",
    "        temp_x = np.array(temp_x)\n",
    "        temp_y = np.array(temp_y)\n",
    "        \n",
    "        X_train.append(temp_x)\n",
    "        y_train.append(temp_y)\n",
    "    \n",
    "    X_train = np.array(X_train)\n",
    "    y_train = np.array(y_train)\n",
    "\n",
    "    return (X_train, y_train)"
   ]
  },
  {
   "cell_type": "code",
   "execution_count": 0,
   "metadata": {
    "colab": {},
    "colab_type": "code",
    "id": "gvOt2WnjpgYy"
   },
   "outputs": [],
   "source": [
    "X_train, y_train = generate_encodings(X_train_sent, y_train_sent)\n",
    "X_test, y_test = generate_encodings(X_test_sent, y_test_sent)"
   ]
  },
  {
   "cell_type": "code",
   "execution_count": 0,
   "metadata": {
    "colab": {},
    "colab_type": "code",
    "id": "YoPDzx-Jph7L"
   },
   "outputs": [],
   "source": [
    "# We make the sentences and the target labels of each of the same length, 62.\n",
    "X_train = pad_sequences(X_train, maxlen=max_length, padding='post', value=word2id['__PAD__'])\n",
    "y_train = pad_sequences(y_train, maxlen=max_length, padding='post', value=tag2id['O'])\n",
    "X_test = pad_sequences(X_test, maxlen=max_length, padding='post', value=word2id['__PAD__'])\n",
    "y_test = pad_sequences(y_test, maxlen=max_length, padding='post', value=tag2id['O'])"
   ]
  },
  {
   "cell_type": "code",
   "execution_count": 0,
   "metadata": {
    "colab": {},
    "colab_type": "code",
    "id": "EAjQiGcCpoq_"
   },
   "outputs": [],
   "source": [
    "y_train = [to_categorical(i, n_tags) for i in y_train]\n",
    "y_test = [to_categorical(i, n_tags) for i in y_test]"
   ]
  },
  {
   "cell_type": "code",
   "execution_count": 0,
   "metadata": {
    "colab": {},
    "colab_type": "code",
    "id": "rkBJjJIPpuQg"
   },
   "outputs": [],
   "source": [
    "model = Sequential([\n",
    "                    # Takes the ids of words and returns the associated vectors\n",
    "                    # the dimensions of the resulting vector is 64\n",
    "                    # Dimension Experimentable\n",
    "                    Embedding(input_dim=n_words, output_dim=64),\n",
    "                    # The dropout layer takes a random 10% of the nodes\n",
    "                    # and disconnects it. This prevents overfitting\n",
    "                    # EXPERIMENTABLE\n",
    "                    Dropout(0.1),\n",
    "                    # A bidirectional wrapper over LSTM Layer\n",
    "                    # This helps capture contexts in both directions\n",
    "                    Bidirectional(LSTM(\n",
    "                        # The number of units in LSTM Layer\n",
    "                        # EXPERIMENTABLE\n",
    "                        128,\n",
    "                        # The Activation function can be expiremented with.\n",
    "                        # Try using 'sigmoid' function or the more famous,\n",
    "                        # 'relu' functions\n",
    "                        # EXPERIMENTABLE\n",
    "                        activation='tanh',\n",
    "                        # This layer returns the full output.\n",
    "                        # If not present, just returns the last output \n",
    "                        return_sequences=True, \n",
    "                        # EXPERIMENTABLE\n",
    "                        recurrent_activation='sigmoid', \n",
    "                        use_bias=True,\n",
    "                        )),\n",
    "                    # keep one-to-one relations on input and output\n",
    "                    # and lets sequence map indipendently\n",
    "                    TimeDistributed(Dense(\n",
    "                        # The number of possible 'buckets' we can put the final\n",
    "                        # predicted tag into\n",
    "                        n_tags,\n",
    "                        # Used to calculate probability distributions,\n",
    "                        # can not be experimented with without major loss of \n",
    "                        # logic and accuracy\n",
    "                        activation='softmax'\n",
    "                    ))\n",
    "])"
   ]
  },
  {
   "cell_type": "code",
   "execution_count": 0,
   "metadata": {
    "colab": {
     "base_uri": "https://localhost:8080/",
     "height": 289
    },
    "colab_type": "code",
    "id": "TDDdRNuMY2rq",
    "outputId": "e11fd8b8-0c1d-43e9-b558-1c94cb3ee071"
   },
   "outputs": [
    {
     "name": "stdout",
     "output_type": "stream",
     "text": [
      "Model: \"sequential\"\n",
      "_________________________________________________________________\n",
      "Layer (type)                 Output Shape              Param #   \n",
      "=================================================================\n",
      "embedding (Embedding)        (None, None, 64)          3319552   \n",
      "_________________________________________________________________\n",
      "dropout (Dropout)            (None, None, 64)          0         \n",
      "_________________________________________________________________\n",
      "bidirectional (Bidirectional (None, None, 256)         197632    \n",
      "_________________________________________________________________\n",
      "time_distributed (TimeDistri (None, None, 5)           1285      \n",
      "=================================================================\n",
      "Total params: 3,518,469\n",
      "Trainable params: 3,518,469\n",
      "Non-trainable params: 0\n",
      "_________________________________________________________________\n"
     ]
    }
   ],
   "source": [
    "# Describes the layers in the network\n",
    "model.summary()"
   ]
  },
  {
   "cell_type": "code",
   "execution_count": 0,
   "metadata": {
    "colab": {},
    "colab_type": "code",
    "id": "jasXEeM-pxkN"
   },
   "outputs": [],
   "source": [
    "model.compile(\n",
    "    # Can be experimented by replacing with 'adam' \n",
    "    # Both show almost the same result and take almost same training time\n",
    "    # EXPERIMENTABLE\n",
    "    optimizer='rmsprop',\n",
    "    # The way to measure how accurately the network has predicted the tag\n",
    "    # from the given n_tags\n",
    "    # EXPERIMENTABLE\n",
    "    loss='categorical_crossentropy',\n",
    "    # We will measure performance on the basis of accuracy\n",
    "    # EXPERIMENTABLE\n",
    "    metrics=['accuracy'])"
   ]
  },
  {
   "cell_type": "code",
   "execution_count": 0,
   "metadata": {
    "colab": {
     "base_uri": "https://localhost:8080/",
     "height": 85
    },
    "colab_type": "code",
    "id": "_Zq79kA6p0mf",
    "outputId": "2867ce4a-e513-4161-8725-d24616188277"
   },
   "outputs": [
    {
     "name": "stdout",
     "output_type": "stream",
     "text": [
      "Epoch 1/2\n",
      "1553/1553 [==============================] - 448s 289ms/step - loss: 0.0083 - accuracy: 0.9979 - val_loss: 1.4244e-04 - val_accuracy: 1.0000\n",
      "Epoch 2/2\n",
      "1553/1553 [==============================] - 455s 293ms/step - loss: 1.4331e-04 - accuracy: 1.0000 - val_loss: 9.8809e-05 - val_accuracy: 1.0000\n"
     ]
    }
   ],
   "source": [
    "history = model.fit(\n",
    "    #  The Training data: Features and Labels\n",
    "    X_train, np.array(y_train),\n",
    "    #  The number of training examples in one forward/backward pass\n",
    "    # EXPERIMENTABLE\n",
    "    batch_size=256,\n",
    "    # The number of iterations over the training data\n",
    "    # EXPERIMENTABLE\n",
    "    epochs=2,\n",
    "    # Shows the details of training\n",
    "    verbose=1,\n",
    "    # Shuffles the training data\n",
    "    # so that each time the network sees a new sequence of batches\n",
    "    shuffle=True,\n",
    "    # Splitting the Total Data and validating on 25% of the data\n",
    "    # EXPERIMENTABLE\n",
    "    validation_split=0.25,\n",
    "    # Some machine level optimizations\n",
    "    # EXPERIMENTABLE\n",
    "    workers=1,\n",
    "    use_multiprocessing=False\n",
    ")"
   ]
  }
 ],
 "metadata": {
  "accelerator": "TPU",
  "colab": {
   "collapsed_sections": [],
   "machine_shape": "hm",
   "name": "NER_deep_learning.ipynb",
   "provenance": []
  },
  "kernelspec": {
   "display_name": "Python 3",
   "language": "python",
   "name": "python3"
  },
  "language_info": {
   "codemirror_mode": {
    "name": "ipython",
    "version": 3
   },
   "file_extension": ".py",
   "mimetype": "text/x-python",
   "name": "python",
   "nbconvert_exporter": "python",
   "pygments_lexer": "ipython3",
   "version": "3.6.9"
  }
 },
 "nbformat": 4,
 "nbformat_minor": 1
}
